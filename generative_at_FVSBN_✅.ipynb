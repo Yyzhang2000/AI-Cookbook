{
  "nbformat": 4,
  "nbformat_minor": 0,
  "metadata": {
    "colab": {
      "provenance": [],
      "gpuType": "T4",
      "authorship_tag": "ABX9TyPx4P9E0XaLqVq1DUPG+efr",
      "include_colab_link": true
    },
    "kernelspec": {
      "name": "python3",
      "display_name": "Python 3"
    },
    "language_info": {
      "name": "python"
    },
    "accelerator": "GPU"
  },
  "cells": [
    {
      "cell_type": "markdown",
      "metadata": {
        "id": "view-in-github",
        "colab_type": "text"
      },
      "source": [
        "<a href=\"https://colab.research.google.com/github/Yyzhang2000/AI-Cookbook/blob/main/generative_at_FVSBN_%E2%9C%85.ipynb\" target=\"_parent\"><img src=\"https://colab.research.google.com/assets/colab-badge.svg\" alt=\"Open In Colab\"/></a>"
      ]
    },
    {
      "cell_type": "code",
      "execution_count": 1,
      "metadata": {
        "colab": {
          "base_uri": "https://localhost:8080/"
        },
        "id": "2pyM5Y9PbeQo",
        "outputId": "5c578f7d-6244-4eb4-fb69-4ff839a34932"
      },
      "outputs": [
        {
          "output_type": "execute_result",
          "data": {
            "text/plain": [
              "device(type='cuda')"
            ]
          },
          "metadata": {},
          "execution_count": 1
        }
      ],
      "source": [
        "import torch\n",
        "import torch.nn as nn\n",
        "import torch.distributions as dist\n",
        "import torchvision\n",
        "import torchvision.transforms as transforms\n",
        "from torch.utils.data import DataLoader\n",
        "\n",
        "import matplotlib.pyplot as plt\n",
        "\n",
        "device = torch.device('cuda' if torch.cuda.is_available() else 'cpu')\n",
        "device"
      ]
    },
    {
      "cell_type": "code",
      "source": [
        "class Binarize:\n",
        "    def __call__(self, img):\n",
        "        return (img > 0.5).float()\n",
        "\n",
        "transform = transforms.Compose([\n",
        "    transforms.ToTensor(),\n",
        "    Binarize()\n",
        "])\n",
        "\n",
        "train_dataset = torchvision.datasets.MNIST(root='./data', train=True, download=True, transform=transform)\n",
        "train_loader = DataLoader(train_dataset, batch_size=64, shuffle=True)"
      ],
      "metadata": {
        "colab": {
          "base_uri": "https://localhost:8080/"
        },
        "id": "aJkUCGgZb59k",
        "outputId": "8d3634d8-c8c2-436b-bf78-8208758d825a"
      },
      "execution_count": 2,
      "outputs": [
        {
          "output_type": "stream",
          "name": "stderr",
          "text": [
            "100%|██████████| 9.91M/9.91M [00:02<00:00, 4.59MB/s]\n",
            "100%|██████████| 28.9k/28.9k [00:00<00:00, 133kB/s]\n",
            "100%|██████████| 1.65M/1.65M [00:01<00:00, 1.27MB/s]\n",
            "100%|██████████| 4.54k/4.54k [00:00<00:00, 7.24MB/s]\n"
          ]
        }
      ]
    },
    {
      "cell_type": "code",
      "source": [
        "images, labels = next(iter(train_loader))\n",
        "\n",
        "# Plotting\n",
        "fig, axes = plt.subplots(1, 4, figsize=(10, 3))\n",
        "for i in range(4):\n",
        "    axes[i].imshow(images[i][0], cmap='gray')\n",
        "    axes[i].set_title(f\"Label: {labels[i].item()}\")\n",
        "    axes[i].axis('off')\n",
        "\n",
        "plt.suptitle(\"First 4 Binarized MNIST Images\")\n",
        "plt.tight_layout()\n",
        "plt.show()"
      ],
      "metadata": {
        "colab": {
          "base_uri": "https://localhost:8080/",
          "height": 313
        },
        "id": "8tFVEm0qcGoC",
        "outputId": "dcb71085-2850-4ad7-c6f8-ad60effb6da7"
      },
      "execution_count": 3,
      "outputs": [
        {
          "output_type": "display_data",
          "data": {
            "text/plain": [
              "<Figure size 1000x300 with 4 Axes>"
            ],
            "image/png": "[encoded data removed]"
          },
          "metadata": {}
        }
      ]
    },
    {
      "cell_type": "code",
      "source": [
        "class FVSBN(nn.Module):\n",
        "    def __init__(\n",
        "            self,\n",
        "            in_dim: int = 28 * 28\n",
        "    ):\n",
        "        super().__init__()\n",
        "\n",
        "        self.in_dim = in_dim\n",
        "        self.linear = nn.Linear(in_dim, in_dim, bias = True)\n",
        "\n",
        "        # Enforce auto-regressive trangular structure\n",
        "        #  (weights[j][i] = 0 for j >= i)\n",
        "        for row, weights in enumerate(self.linear.weight.data):\n",
        "            weights[row:] = 0\n",
        "\n",
        "    def mean_vector(self, x):\n",
        "        return torch.sigmoid(self.linear(x))\n",
        "\n",
        "    def forward(self, x):\n",
        "        probs = self.mean_vector(x)\n",
        "        log_probs = x * torch.log(probs + 1e-9) + (1 - x) * torch.log(1 - probs + 1e-9)\n",
        "\n",
        "        return torch.sum(log_probs, dim = -1)\n",
        "\n",
        "    def zero_grad_for_extra_weights(self):\n",
        "        for row, grads in enumerate(self.linear.weight.grad):\n",
        "            grads[row: ] = 0\n",
        "\n",
        "\n",
        "    def sample(self, num_samples = 4):\n",
        "        samples = torch.zeros(num_samples, self.in_dim)\n",
        "        for n in range(num_samples):\n",
        "            x = torch.zeros(self.in_dim)\n",
        "            for i in range(self.in_dim):\n",
        "                prob = torch.sigmoid(x @ self.linear.weight[i] + self.linear.bias[i])\n",
        "                x[i] = dist.Bernoulli(prob).sample()\n",
        "\n",
        "            samples[n] = x\n",
        "\n",
        "        return samples"
      ],
      "metadata": {
        "id": "HzbfkBm2cb3m"
      },
      "execution_count": 5,
      "outputs": []
    },
    {
      "cell_type": "code",
      "source": [
        "model = FVSBN().to(device) # MNIST images are 28x28 = 784\n",
        "optimizer = torch.optim.Adam(model.parameters(), lr=1e-3)\n",
        "num_epochs = 20\n",
        "model.train()\n",
        "\n",
        "for epoch in range(num_epochs):\n",
        "    total_loss = 0.0\n",
        "    for images, _ in train_loader:\n",
        "        images = images.to(device)\n",
        "        images = images.view(-1, 28*28)  # flatten\n",
        "        optimizer.zero_grad()\n",
        "\n",
        "        # Maximize log-likelihood ≡ minimize negative log-likelihood\n",
        "        neg_log_likelihood = -model(images).mean()\n",
        "        neg_log_likelihood.backward()\n",
        "\n",
        "        model.zero_grad_for_extra_weights()  # Enforce triangular weights\n",
        "        optimizer.step()\n",
        "\n",
        "        total_loss += neg_log_likelihood.item()\n",
        "\n",
        "    print(f\"Epoch {epoch + 1}, Loss: {total_loss / len(train_loader):.4f}\")"
      ],
      "metadata": {
        "colab": {
          "base_uri": "https://localhost:8080/"
        },
        "id": "D8ad7K0xd_H_",
        "outputId": "b913d542-8962-415b-abf3-67fc470cdf6f"
      },
      "execution_count": 6,
      "outputs": [
        {
          "output_type": "stream",
          "name": "stdout",
          "text": [
            "Epoch 1, Loss: 229.1899\n",
            "Epoch 2, Loss: 150.0371\n",
            "Epoch 3, Loss: 120.6383\n",
            "Epoch 4, Loss: 104.7709\n",
            "Epoch 5, Loss: 95.3392\n",
            "Epoch 6, Loss: 89.3884\n",
            "Epoch 7, Loss: 85.4740\n",
            "Epoch 8, Loss: 82.8184\n",
            "Epoch 9, Loss: 80.9649\n",
            "Epoch 10, Loss: 79.6411\n",
            "Epoch 11, Loss: 78.6649\n",
            "Epoch 12, Loss: 77.9324\n",
            "Epoch 13, Loss: 77.3788\n",
            "Epoch 14, Loss: 76.9382\n",
            "Epoch 15, Loss: 76.5947\n",
            "Epoch 16, Loss: 76.3030\n",
            "Epoch 17, Loss: 76.0735\n",
            "Epoch 18, Loss: 75.8766\n",
            "Epoch 19, Loss: 75.7097\n",
            "Epoch 20, Loss: 75.5718\n"
          ]
        }
      ]
    },
    {
      "cell_type": "code",
      "source": [
        "model = model.to('cpu')\n",
        "model.eval()\n",
        "with torch.no_grad():\n",
        "    samples = model.sample(num_samples=16).view(-1, 1, 28, 28)\n",
        "\n",
        "samples = samples.detach().cpu()\n",
        "grid = torchvision.utils.make_grid(samples, nrow=4)\n",
        "plt.imshow(grid.permute(1, 2, 0).cpu().numpy())\n",
        "plt.title(\"FVSBN Samples\")\n",
        "plt.axis(\"off\")\n",
        "plt.show()"
      ],
      "metadata": {
        "colab": {
          "base_uri": "https://localhost:8080/",
          "height": 428
        },
        "id": "j8YCLEf1eB-C",
        "outputId": "5246ed56-3aac-4131-8a86-1104b266b4e8"
      },
      "execution_count": 8,
      "outputs": [
        {
          "output_type": "display_data",
          "data": {
            "text/plain": [
              "<Figure size 640x480 with 1 Axes>"
            ],
            "image/png": "[encoded data removed]"
          },
          "metadata": {}
        }
      ]
    },
    {
      "cell_type": "code",
      "source": [
        "def sample_progress(model, step_points=[0, 100, 400, 784]):\n",
        "    model.eval()\n",
        "    sample = torch.zeros(model.in_dim)\n",
        "    snapshots = {}\n",
        "\n",
        "    with torch.no_grad():\n",
        "        for i in range(model.in_dim):\n",
        "            prob = torch.sigmoid(sample @ model.linear.weight[i] + model.linear.bias[i])\n",
        "            sample[i] = dist.Bernoulli(prob).sample()\n",
        "\n",
        "            if (i + 1) in step_points:\n",
        "                snapshots[i + 1] = sample.clone().view(28, 28)\n",
        "\n",
        "    return snapshots\n",
        "\n",
        "def plot_snapshots(snapshots):\n",
        "    steps = sorted(snapshots.keys())\n",
        "    fig, axes = plt.subplots(1, len(steps), figsize=(12, 3))\n",
        "    for idx, step in enumerate(steps):\n",
        "        axes[idx].imshow(snapshots[step].cpu(), cmap='gray')\n",
        "        axes[idx].set_title(f\"Step {step}\")\n",
        "        axes[idx].axis(\"off\")\n",
        "    plt.show()"
      ],
      "metadata": {
        "id": "p7t2ePWLeq6l"
      },
      "execution_count": 9,
      "outputs": []
    },
    {
      "cell_type": "code",
      "source": [
        "snapshots = sample_progress(model, step_points=[0, 100, 400, 500, 784])\n",
        "plot_snapshots(snapshots)"
      ],
      "metadata": {
        "colab": {
          "base_uri": "https://localhost:8080/",
          "height": 261
        },
        "id": "NwaH72Buev4j",
        "outputId": "00549fb8-e5e1-4dfd-c3cc-b153e5c99b6b"
      },
      "execution_count": 11,
      "outputs": [
        {
          "output_type": "display_data",
          "data": {
            "text/plain": [
              "<Figure size 1200x300 with 4 Axes>"
            ],
            "image/png": "[encoded data removed]"
          },
          "metadata": {}
        }
      ]
    },
    {
      "cell_type": "code",
      "source": [],
      "metadata": {
        "id": "uwEGJT2qev_R"
      },
      "execution_count": null,
      "outputs": []
    }
  ]
}