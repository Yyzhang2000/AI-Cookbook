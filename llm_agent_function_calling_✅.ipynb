{
  "nbformat": 4,
  "nbformat_minor": 0,
  "metadata": {
    "colab": {
      "provenance": [],
      "authorship_tag": "ABX9TyP98rloYk4RbwVwT7EPPQh+",
      "include_colab_link": true
    },
    "kernelspec": {
      "name": "python3",
      "display_name": "Python 3"
    },
    "language_info": {
      "name": "python"
    }
  },
  "cells": [
    {
      "cell_type": "markdown",
      "metadata": {
        "id": "view-in-github",
        "colab_type": "text"
      },
      "source": [
        "<a href=\"https://colab.research.google.com/github/Yyzhang2000/AI-Cookbook/blob/main/llm_agent_function_calling_%E2%9C%85.ipynb\" target=\"_parent\"><img src=\"https://colab.research.google.com/assets/colab-badge.svg\" alt=\"Open In Colab\"/></a>"
      ]
    },
    {
      "cell_type": "code",
      "execution_count": 1,
      "metadata": {
        "colab": {
          "base_uri": "https://localhost:8080/"
        },
        "id": "mz_WJ_VdSRVH",
        "outputId": "aaf6a038-47cc-4072-a214-a2a31c0585a9"
      },
      "outputs": [
        {
          "output_type": "stream",
          "name": "stdout",
          "text": [
            "Requirement already satisfied: openai in /usr/local/lib/python3.11/dist-packages (1.76.0)\n",
            "Requirement already satisfied: anyio<5,>=3.5.0 in /usr/local/lib/python3.11/dist-packages (from openai) (4.9.0)\n",
            "Requirement already satisfied: distro<2,>=1.7.0 in /usr/local/lib/python3.11/dist-packages (from openai) (1.9.0)\n",
            "Requirement already satisfied: httpx<1,>=0.23.0 in /usr/local/lib/python3.11/dist-packages (from openai) (0.28.1)\n",
            "Requirement already satisfied: jiter<1,>=0.4.0 in /usr/local/lib/python3.11/dist-packages (from openai) (0.9.0)\n",
            "Requirement already satisfied: pydantic<3,>=1.9.0 in /usr/local/lib/python3.11/dist-packages (from openai) (2.11.3)\n",
            "Requirement already satisfied: sniffio in /usr/local/lib/python3.11/dist-packages (from openai) (1.3.1)\n",
            "Requirement already satisfied: tqdm>4 in /usr/local/lib/python3.11/dist-packages (from openai) (4.67.1)\n",
            "Requirement already satisfied: typing-extensions<5,>=4.11 in /usr/local/lib/python3.11/dist-packages (from openai) (4.13.2)\n",
            "Requirement already satisfied: idna>=2.8 in /usr/local/lib/python3.11/dist-packages (from anyio<5,>=3.5.0->openai) (3.10)\n",
            "Requirement already satisfied: certifi in /usr/local/lib/python3.11/dist-packages (from httpx<1,>=0.23.0->openai) (2025.4.26)\n",
            "Requirement already satisfied: httpcore==1.* in /usr/local/lib/python3.11/dist-packages (from httpx<1,>=0.23.0->openai) (1.0.9)\n",
            "Requirement already satisfied: h11>=0.16 in /usr/local/lib/python3.11/dist-packages (from httpcore==1.*->httpx<1,>=0.23.0->openai) (0.16.0)\n",
            "Requirement already satisfied: annotated-types>=0.6.0 in /usr/local/lib/python3.11/dist-packages (from pydantic<3,>=1.9.0->openai) (0.7.0)\n",
            "Requirement already satisfied: pydantic-core==2.33.1 in /usr/local/lib/python3.11/dist-packages (from pydantic<3,>=1.9.0->openai) (2.33.1)\n",
            "Requirement already satisfied: typing-inspection>=0.4.0 in /usr/local/lib/python3.11/dist-packages (from pydantic<3,>=1.9.0->openai) (0.4.0)\n"
          ]
        }
      ],
      "source": [
        "!pip install openai"
      ]
    },
    {
      "cell_type": "code",
      "source": [
        "from openai import OpenAI\n",
        "import requests\n",
        "import json"
      ],
      "metadata": {
        "id": "HQkAX6TNTQRw"
      },
      "execution_count": 2,
      "outputs": []
    },
    {
      "cell_type": "code",
      "source": [
        "OPENAI_API_KEY=\"YOUR-OPENAI-API-KEY\""
      ],
      "metadata": {
        "id": "ScON-ymHUfDf"
      },
      "execution_count": 3,
      "outputs": []
    },
    {
      "cell_type": "code",
      "source": [
        "# 1.define get weather function\n",
        "def get_current_weather(location: str, unit: str = \"celsius\") -> dict:\n",
        "    fake_weather_db = {\n",
        "        \"Singapore\": {\n",
        "            \"celsius\": {\"temperature\": 30, \"weather\": \"humid and cloudy\"},\n",
        "            \"fahrenheit\": {\"temperature\": 86, \"weather\": \"humid and cloudy\"}\n",
        "        },\n",
        "        \"New York\": {\n",
        "            \"celsius\": {\"temperature\": 22, \"weather\": \"sunny\"},\n",
        "            \"fahrenheit\": {\"temperature\": 72, \"weather\": \"sunny\"}\n",
        "        },\n",
        "        \"London\": {\n",
        "            \"celsius\": {\"temperature\": 15, \"weather\": \"rainy\"},\n",
        "            \"fahrenheit\": {\"temperature\": 59, \"weather\": \"rainy\"}\n",
        "        }\n",
        "    }\n",
        "\n",
        "    # 默认值\n",
        "    default_weather = {\"temperature\": \"N/A\", \"weather\": \"unknown\"}\n",
        "\n",
        "    location_weather = fake_weather_db.get(location, {})\n",
        "    weather = location_weather.get(unit, default_weather)\n",
        "\n",
        "    return {\n",
        "        \"location\": location,\n",
        "        \"unit\": unit,\n",
        "        \"temperature\": weather[\"temperature\"],\n",
        "        \"weather\": weather[\"weather\"]\n",
        "    }"
      ],
      "metadata": {
        "id": "hoHDMZFvTM3u"
      },
      "execution_count": 4,
      "outputs": []
    },
    {
      "cell_type": "code",
      "source": [
        "# 2. define tool schema（function calling）\n",
        "tools = [\n",
        "    {\n",
        "        \"type\": \"function\",\n",
        "        \"function\": {\n",
        "            \"name\": \"get_current_weather\",\n",
        "            \"description\": \"Get the current weather in a given location\",\n",
        "            \"parameters\": {\n",
        "                \"type\": \"object\",\n",
        "                \"properties\": {\n",
        "                    \"location\": {\n",
        "                        \"type\": \"string\",\n",
        "                        \"description\": \"The city and country, e.g. Singapore\",\n",
        "                    },\n",
        "                    \"unit\": {\n",
        "                        \"type\": \"string\",\n",
        "                        \"enum\": [\"celsius\", \"fahrenheit\"],\n",
        "                        \"description\": \"The temperature unit\",\n",
        "                    },\n",
        "                },\n",
        "                \"required\": [\"location\"],\n",
        "            },\n",
        "        }\n",
        "    }\n",
        "]"
      ],
      "metadata": {
        "id": "TqI3k1DfTTL2"
      },
      "execution_count": 5,
      "outputs": []
    },
    {
      "cell_type": "code",
      "source": [
        "class WeatherAgent:\n",
        "    def __init__(self, use_tool=True):\n",
        "        self.client = OpenAI(api_key=OPENAI_API_KEY)\n",
        "        self.messages = []\n",
        "        self.use_tool = use_tool\n",
        "\n",
        "        # tool schema for function calling\n",
        "        self.tools = tools\n",
        "\n",
        "\n",
        "    def chat(self, user_input: str) -> str:\n",
        "        self.messages.append({\"role\": \"user\", \"content\": user_input})\n",
        "\n",
        "        # 🧠 模型初步生成响应\n",
        "        if self.use_tool:\n",
        "            response = self.client.chat.completions.create(\n",
        "                model=\"gpt-4-1106-preview\",\n",
        "                messages=self.messages,\n",
        "                tools=self.tools,\n",
        "                tool_choice=\"auto\"\n",
        "            )\n",
        "        else:\n",
        "            response = self.client.chat.completions.create(\n",
        "                model=\"gpt-4-1106-preview\",\n",
        "                messages=self.messages\n",
        "            )\n",
        "\n",
        "        message = response.choices[0].message\n",
        "        tool_calls = message.tool_calls if self.use_tool else None\n",
        "\n",
        "        # ✅ 如果模型调用了函数\n",
        "        if tool_calls:\n",
        "            for tool_call in tool_calls:\n",
        "                function_name = tool_call.function.name\n",
        "                args = json.loads(tool_call.function.arguments)\n",
        "\n",
        "                if function_name == \"get_current_weather\":\n",
        "                    result = get_current_weather(**args)\n",
        "\n",
        "                    # 把工具调用及返回添加进对话历史\n",
        "                    self.messages.append(message)\n",
        "                    self.messages.append({\n",
        "                        \"role\": \"tool\",\n",
        "                        \"tool_call_id\": tool_call.id,\n",
        "                        \"name\": function_name,\n",
        "                        \"content\": json.dumps(result)\n",
        "                    })\n",
        "\n",
        "                    # 再次生成最终回答\n",
        "                    final_response = self.client.chat.completions.create(\n",
        "                        model=\"gpt-4-1106-preview\",\n",
        "                        messages=self.messages\n",
        "                    )\n",
        "\n",
        "                    reply = final_response.choices[0].message.content\n",
        "                    self.messages.append({\"role\": \"assistant\", \"content\": reply})\n",
        "                    return \"🤖: \" + reply\n",
        "        else:\n",
        "            # 📦 没有使用工具，直接回复\n",
        "            reply = message.content\n",
        "            self.messages.append({\"role\": \"assistant\", \"content\": reply})\n",
        "            return \"🤖: \" + reply"
      ],
      "metadata": {
        "id": "ZjqxmP7_XZsw"
      },
      "execution_count": 6,
      "outputs": []
    },
    {
      "cell_type": "code",
      "source": [
        "agent = WeatherAgent(use_tool=True)\n",
        "reply = agent.chat(\"What's the weather in Singapore in fahrenheit?\")\n",
        "print(reply)"
      ],
      "metadata": {
        "colab": {
          "base_uri": "https://localhost:8080/"
        },
        "id": "nGxQmLolUQYk",
        "outputId": "0e5fa6ed-d1d3-4b23-91ae-b9b36c4ca111"
      },
      "execution_count": 7,
      "outputs": [
        {
          "output_type": "stream",
          "name": "stdout",
          "text": [
            "🤖: The current weather in Singapore is humid and cloudy with a temperature of 86°F.\n"
          ]
        }
      ]
    },
    {
      "cell_type": "code",
      "source": [
        "agent_no_tool = WeatherAgent(use_tool=False)\n",
        "reply = agent_no_tool.chat(\"What's the weather in Singapore in fahrenheit?\")\n",
        "print(reply)"
      ],
      "metadata": {
        "colab": {
          "base_uri": "https://localhost:8080/"
        },
        "id": "CUYxqyrkX2dC",
        "outputId": "16fea51c-8e9b-4e50-9173-52b69335d2ef"
      },
      "execution_count": 8,
      "outputs": [
        {
          "output_type": "stream",
          "name": "stdout",
          "text": [
            "🤖: I'm sorry, but I cannot provide real-time information. However, I can tell you that Singapore has a tropical rainforest climate with no distinct seasons, and its temperature typically ranges from about 75°F to around 89°F (24°C to 32°C) throughout the year. Humidity is high, and rainfall is fairly evenly distributed throughout the year. To get the current weather conditions in Singapore in Fahrenheit, you would need to check a recent weather report or use a weather forecasting service.\n"
          ]
        }
      ]
    },
    {
      "cell_type": "code",
      "source": [],
      "metadata": {
        "id": "UVqUl3ARYivY"
      },
      "execution_count": 8,
      "outputs": []
    }
  ]
}